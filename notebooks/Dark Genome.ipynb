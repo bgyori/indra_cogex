{
 "cells": [
  {
   "cell_type": "code",
   "execution_count": 1,
   "id": "43c4c788",
   "metadata": {},
   "outputs": [
    {
     "name": "stderr",
     "output_type": "stream",
     "text": [
      "WARNING: [2022-04-19 16:46:18] indra_cogex.apps.constants - Pusher app not configured. Please set the environment variables CLARE_PUSHER_APP_ID, CLARE_PUSHER_KEY, CLARE_PUSHER_SECRET, and CLARE_PUSHER_CLUSTER.\n"
     ]
    },
    {
     "data": {
      "text/html": [
       "<table>\n",
       "<thead>\n",
       "<tr><th>Key                 </th><th>Value                                   </th></tr>\n",
       "</thead>\n",
       "<tbody>\n",
       "<tr><td>OS                  </td><td>posix                                   </td></tr>\n",
       "<tr><td>Platform            </td><td>Darwin                                  </td></tr>\n",
       "<tr><td>Release             </td><td>21.4.0                                  </td></tr>\n",
       "<tr><td>Time                </td><td>Tue Apr 19 16:46:19 2022                </td></tr>\n",
       "<tr><td>Python              </td><td>3.9.12                                  </td></tr>\n",
       "<tr><td>INDRA Version       </td><td>1.21.0                                  </td></tr>\n",
       "<tr><td>INDRA Git Hash      </td><td>fbdf9f50d128b5f22a38f3293ff8a2e3e36715a5</td></tr>\n",
       "<tr><td>INDRA CoGEx Version </td><td>1.0.0                                   </td></tr>\n",
       "<tr><td>INDRA CoGEx Git Hash</td><td>ce19bcb92d8a34e85b9ea470c3b9c098fa49d09d</td></tr>\n",
       "<tr><td>INDRA CoGEx Branch  </td><td>main                                    </td></tr>\n",
       "</tbody>\n",
       "</table>"
      ],
      "text/plain": [
       "<IPython.core.display.HTML object>"
      ]
     },
     "execution_count": 1,
     "metadata": {},
     "output_type": "execute_result"
    }
   ],
   "source": [
    "from indra_cogex.client import Neo4jClient\n",
    "import indra_cogex.info\n",
    "from indra_cogex.client.curation import PHOSPHATASE_CURIES\n",
    "from rich import print\n",
    "from collections import Counter, defaultdict\n",
    "import pandas as pd\n",
    "from indra.databases import hgnc_client\n",
    "from indra_cogex.apps.curator.curation_cache import CurationCache\n",
    "\n",
    "indra_cogex.info.env()"
   ]
  },
  {
   "cell_type": "code",
   "execution_count": 5,
   "id": "54b268a2",
   "metadata": {},
   "outputs": [],
   "source": [
    "all_hgnc_ids = set(hgnc_client.hgnc_ids.values())"
   ]
  },
  {
   "cell_type": "code",
   "execution_count": 2,
   "id": "40d67ce1",
   "metadata": {},
   "outputs": [
    {
     "name": "stderr",
     "output_type": "stream",
     "text": [
      "INFO: [2022-04-19 16:46:19] indra_cogex.client.neo4j_client - Using configured URL for INDRA neo4j connection\n",
      "INFO: [2022-04-19 16:46:19] indra_cogex.client.neo4j_client - Using configured credentials for INDRA neo4j connection\n"
     ]
    }
   ],
   "source": [
    "client = Neo4jClient()"
   ]
  },
  {
   "cell_type": "code",
   "execution_count": 8,
   "id": "d8dc1857",
   "metadata": {},
   "outputs": [
    {
     "name": "stdout",
     "output_type": "stream",
     "text": [
      "CPU times: user 707 ms, sys: 65 ms, total: 772 ms\n",
      "Wall time: 13 s\n"
     ]
    }
   ],
   "source": [
    "%%time\n",
    "query = f\"\"\"\\\n",
    "MATCH (a:BioEntity)-[r:indra_rel]->(b:BioEntity)\n",
    "WHERE\n",
    "    a.id STARTS WITH \"hgnc\"\n",
    "    AND a.id <> b.id\n",
    "RETURN a.id, a.name, count(r)\n",
    "\"\"\"\n",
    "\n",
    "res = list(client.query_tx(query))"
   ]
  },
  {
   "cell_type": "code",
   "execution_count": 9,
   "id": "644b2557",
   "metadata": {},
   "outputs": [
    {
     "data": {
      "text/html": [
       "<pre style=\"white-space:pre;overflow-x:auto;line-height:normal;font-family:Menlo,'DejaVu Sans Mono',consolas,'Courier New',monospace\">There are <span style=\"color: #008080; text-decoration-color: #008080; font-weight: bold\">24</span>,<span style=\"color: #008080; text-decoration-color: #008080; font-weight: bold\">954</span> dark genes of <span style=\"color: #008080; text-decoration-color: #008080; font-weight: bold\">44</span>,<span style=\"color: #008080; text-decoration-color: #008080; font-weight: bold\">903</span> genes\n",
       "</pre>\n"
      ],
      "text/plain": [
       "There are \u001b[1;36m24\u001b[0m,\u001b[1;36m954\u001b[0m dark genes of \u001b[1;36m44\u001b[0m,\u001b[1;36m903\u001b[0m genes\n"
      ]
     },
     "metadata": {},
     "output_type": "display_data"
    }
   ],
   "source": [
    "known_genes = {row[0].removeprefix(\"hgnc:\") for row in res}\n",
    "\n",
    "dark_genes = all_hgnc_ids - known_genes\n",
    "print(f\"There are {len(dark_genes):,} dark genes of {len(all_hgnc_ids):,} genes\")"
   ]
  },
  {
   "cell_type": "code",
   "execution_count": 13,
   "id": "0edb80d4",
   "metadata": {},
   "outputs": [
    {
     "data": {
      "text/html": [
       "<pre style=\"white-space:pre;overflow-x:auto;line-height:normal;font-family:Menlo,'DejaVu Sans Mono',consolas,'Courier New',monospace\"><span style=\"color: #800080; text-decoration-color: #800080; font-weight: bold\">Counter</span><span style=\"font-weight: bold\">({</span>\n",
       "    <span style=\"color: #008000; text-decoration-color: #008000\">'gene with protein product'</span>: <span style=\"color: #008080; text-decoration-color: #008080; font-weight: bold\">17514</span>,\n",
       "    <span style=\"color: #008000; text-decoration-color: #008000\">'unknown'</span>: <span style=\"color: #008080; text-decoration-color: #008080; font-weight: bold\">64</span>,\n",
       "    <span style=\"color: #008000; text-decoration-color: #008000\">'RNA, long non-coding'</span>: <span style=\"color: #008080; text-decoration-color: #008080; font-weight: bold\">844</span>,\n",
       "    <span style=\"color: #008000; text-decoration-color: #008000\">'phenotype only'</span>: <span style=\"color: #008080; text-decoration-color: #008080; font-weight: bold\">100</span>,\n",
       "    <span style=\"color: #008000; text-decoration-color: #008000\">'RNA, micro'</span>: <span style=\"color: #008080; text-decoration-color: #008080; font-weight: bold\">755</span>,\n",
       "    <span style=\"color: #008000; text-decoration-color: #008000\">'readthrough'</span>: <span style=\"color: #008080; text-decoration-color: #008080; font-weight: bold\">23</span>,\n",
       "    <span style=\"color: #008000; text-decoration-color: #008000\">'immunoglobulin gene'</span>: <span style=\"color: #008080; text-decoration-color: #008080; font-weight: bold\">42</span>,\n",
       "    <span style=\"color: #008000; text-decoration-color: #008000\">'pseudogene'</span>: <span style=\"color: #008080; text-decoration-color: #008080; font-weight: bold\">404</span>,\n",
       "    <span style=\"color: #008000; text-decoration-color: #008000\">'T cell receptor gene'</span>: <span style=\"color: #008080; text-decoration-color: #008080; font-weight: bold\">15</span>,\n",
       "    <span style=\"color: #008000; text-decoration-color: #008000\">'protocadherin'</span>: <span style=\"color: #008080; text-decoration-color: #008080; font-weight: bold\">28</span>,\n",
       "    <span style=\"color: #008000; text-decoration-color: #008000\">'RNA, small nuclear'</span>: <span style=\"color: #008080; text-decoration-color: #008080; font-weight: bold\">15</span>,\n",
       "    <span style=\"color: #008000; text-decoration-color: #008000\">'RNA, small nucleolar'</span>: <span style=\"color: #008080; text-decoration-color: #008080; font-weight: bold\">74</span>,\n",
       "    <span style=\"color: #008000; text-decoration-color: #008000\">'RNA, transfer'</span>: <span style=\"color: #008080; text-decoration-color: #008080; font-weight: bold\">12</span>,\n",
       "    <span style=\"color: #008000; text-decoration-color: #008000\">'RNA, cluster'</span>: <span style=\"color: #008080; text-decoration-color: #008080; font-weight: bold\">4</span>,\n",
       "    <span style=\"color: #008000; text-decoration-color: #008000\">'endogenous retrovirus'</span>: <span style=\"color: #008080; text-decoration-color: #008080; font-weight: bold\">15</span>,\n",
       "    <span style=\"color: #008000; text-decoration-color: #008000\">'RNA, Y'</span>: <span style=\"color: #008080; text-decoration-color: #008080; font-weight: bold\">4</span>,\n",
       "    <span style=\"color: #008000; text-decoration-color: #008000\">'virus integration site'</span>: <span style=\"color: #008080; text-decoration-color: #008080; font-weight: bold\">3</span>,\n",
       "    <span style=\"color: #008000; text-decoration-color: #008000\">'region'</span>: <span style=\"color: #008080; text-decoration-color: #008080; font-weight: bold\">8</span>,\n",
       "    <span style=\"color: #008000; text-decoration-color: #008000\">'complex locus constituent'</span>: <span style=\"color: #008080; text-decoration-color: #008080; font-weight: bold\">24</span>,\n",
       "    <span style=\"color: #008000; text-decoration-color: #008000\">'RNA, ribosomal'</span>: <span style=\"color: #008080; text-decoration-color: #008080; font-weight: bold\">5</span>,\n",
       "    <span style=\"color: #008000; text-decoration-color: #008000\">'fragile site'</span>: <span style=\"color: #008080; text-decoration-color: #008080; font-weight: bold\">2</span>,\n",
       "    <span style=\"color: #008000; text-decoration-color: #008000\">'RNA, misc'</span>: <span style=\"color: #008080; text-decoration-color: #008080; font-weight: bold\">4</span>,\n",
       "    <span style=\"color: #008000; text-decoration-color: #008000\">'RNA, vault'</span>: <span style=\"color: #008080; text-decoration-color: #008080; font-weight: bold\">3</span>,\n",
       "    <span style=\"color: #008000; text-decoration-color: #008000\">'T cell receptor pseudogene'</span>: <span style=\"color: #008080; text-decoration-color: #008080; font-weight: bold\">1</span>,\n",
       "    <span style=\"color: #008000; text-decoration-color: #008000\">'transposable element'</span>: <span style=\"color: #008080; text-decoration-color: #008080; font-weight: bold\">1</span>,\n",
       "    <span style=\"color: #008000; text-decoration-color: #008000\">'immunoglobulin pseudogene'</span>: <span style=\"color: #008080; text-decoration-color: #008080; font-weight: bold\">1</span>\n",
       "<span style=\"font-weight: bold\">})</span>\n",
       "</pre>\n"
      ],
      "text/plain": [
       "\u001b[1;35mCounter\u001b[0m\u001b[1m(\u001b[0m\u001b[1m{\u001b[0m\n",
       "    \u001b[32m'gene with protein product'\u001b[0m: \u001b[1;36m17514\u001b[0m,\n",
       "    \u001b[32m'unknown'\u001b[0m: \u001b[1;36m64\u001b[0m,\n",
       "    \u001b[32m'RNA, long non-coding'\u001b[0m: \u001b[1;36m844\u001b[0m,\n",
       "    \u001b[32m'phenotype only'\u001b[0m: \u001b[1;36m100\u001b[0m,\n",
       "    \u001b[32m'RNA, micro'\u001b[0m: \u001b[1;36m755\u001b[0m,\n",
       "    \u001b[32m'readthrough'\u001b[0m: \u001b[1;36m23\u001b[0m,\n",
       "    \u001b[32m'immunoglobulin gene'\u001b[0m: \u001b[1;36m42\u001b[0m,\n",
       "    \u001b[32m'pseudogene'\u001b[0m: \u001b[1;36m404\u001b[0m,\n",
       "    \u001b[32m'T cell receptor gene'\u001b[0m: \u001b[1;36m15\u001b[0m,\n",
       "    \u001b[32m'protocadherin'\u001b[0m: \u001b[1;36m28\u001b[0m,\n",
       "    \u001b[32m'RNA, small nuclear'\u001b[0m: \u001b[1;36m15\u001b[0m,\n",
       "    \u001b[32m'RNA, small nucleolar'\u001b[0m: \u001b[1;36m74\u001b[0m,\n",
       "    \u001b[32m'RNA, transfer'\u001b[0m: \u001b[1;36m12\u001b[0m,\n",
       "    \u001b[32m'RNA, cluster'\u001b[0m: \u001b[1;36m4\u001b[0m,\n",
       "    \u001b[32m'endogenous retrovirus'\u001b[0m: \u001b[1;36m15\u001b[0m,\n",
       "    \u001b[32m'RNA, Y'\u001b[0m: \u001b[1;36m4\u001b[0m,\n",
       "    \u001b[32m'virus integration site'\u001b[0m: \u001b[1;36m3\u001b[0m,\n",
       "    \u001b[32m'region'\u001b[0m: \u001b[1;36m8\u001b[0m,\n",
       "    \u001b[32m'complex locus constituent'\u001b[0m: \u001b[1;36m24\u001b[0m,\n",
       "    \u001b[32m'RNA, ribosomal'\u001b[0m: \u001b[1;36m5\u001b[0m,\n",
       "    \u001b[32m'fragile site'\u001b[0m: \u001b[1;36m2\u001b[0m,\n",
       "    \u001b[32m'RNA, misc'\u001b[0m: \u001b[1;36m4\u001b[0m,\n",
       "    \u001b[32m'RNA, vault'\u001b[0m: \u001b[1;36m3\u001b[0m,\n",
       "    \u001b[32m'T cell receptor pseudogene'\u001b[0m: \u001b[1;36m1\u001b[0m,\n",
       "    \u001b[32m'transposable element'\u001b[0m: \u001b[1;36m1\u001b[0m,\n",
       "    \u001b[32m'immunoglobulin pseudogene'\u001b[0m: \u001b[1;36m1\u001b[0m\n",
       "\u001b[1m}\u001b[0m\u001b[1m)\u001b[0m\n"
      ]
     },
     "metadata": {},
     "output_type": "display_data"
    }
   ],
   "source": [
    "known_gene_type_counter = Counter(\n",
    "    hgnc_client.get_gene_type(known_gene) for known_gene in known_genes\n",
    ")\n",
    "print(known_gene_type_counter)"
   ]
  },
  {
   "cell_type": "code",
   "execution_count": 12,
   "id": "b494ddcd",
   "metadata": {},
   "outputs": [
    {
     "data": {
      "text/html": [
       "<pre style=\"white-space:pre;overflow-x:auto;line-height:normal;font-family:Menlo,'DejaVu Sans Mono',consolas,'Courier New',monospace\"><span style=\"color: #800080; text-decoration-color: #800080; font-weight: bold\">Counter</span><span style=\"font-weight: bold\">({</span>\n",
       "    <span style=\"color: #008000; text-decoration-color: #008000\">'pseudogene'</span>: <span style=\"color: #008080; text-decoration-color: #008080; font-weight: bold\">13688</span>,\n",
       "    <span style=\"color: #008000; text-decoration-color: #008000\">'RNA, micro'</span>: <span style=\"color: #008080; text-decoration-color: #008080; font-weight: bold\">1215</span>,\n",
       "    <span style=\"color: #008000; text-decoration-color: #008000\">'gene with protein product'</span>: <span style=\"color: #008080; text-decoration-color: #008080; font-weight: bold\">1833</span>,\n",
       "    <span style=\"color: #008000; text-decoration-color: #008000\">'RNA, long non-coding'</span>: <span style=\"color: #008080; text-decoration-color: #008080; font-weight: bold\">4798</span>,\n",
       "    <span style=\"color: #008000; text-decoration-color: #008000\">'phenotype only'</span>: <span style=\"color: #008080; text-decoration-color: #008080; font-weight: bold\">472</span>,\n",
       "    <span style=\"color: #008000; text-decoration-color: #008000\">'unknown'</span>: <span style=\"color: #008080; text-decoration-color: #008080; font-weight: bold\">551</span>,\n",
       "    <span style=\"color: #008000; text-decoration-color: #008000\">'immunoglobulin pseudogene'</span>: <span style=\"color: #008080; text-decoration-color: #008080; font-weight: bold\">202</span>,\n",
       "    <span style=\"color: #008000; text-decoration-color: #008000\">'RNA, small nucleolar'</span>: <span style=\"color: #008080; text-decoration-color: #008080; font-weight: bold\">495</span>,\n",
       "    <span style=\"color: #008000; text-decoration-color: #008000\">'RNA, transfer'</span>: <span style=\"color: #008080; text-decoration-color: #008080; font-weight: bold\">603</span>,\n",
       "    <span style=\"color: #008000; text-decoration-color: #008000\">'immunoglobulin gene'</span>: <span style=\"color: #008080; text-decoration-color: #008080; font-weight: bold\">188</span>,\n",
       "    <span style=\"color: #008000; text-decoration-color: #008000\">'RNA, cluster'</span>: <span style=\"color: #008080; text-decoration-color: #008080; font-weight: bold\">123</span>,\n",
       "    <span style=\"color: #008000; text-decoration-color: #008000\">'virus integration site'</span>: <span style=\"color: #008080; text-decoration-color: #008080; font-weight: bold\">5</span>,\n",
       "    <span style=\"color: #008000; text-decoration-color: #008000\">'region'</span>: <span style=\"color: #008080; text-decoration-color: #008080; font-weight: bold\">74</span>,\n",
       "    <span style=\"color: #008000; text-decoration-color: #008000\">'endogenous retrovirus'</span>: <span style=\"color: #008080; text-decoration-color: #008080; font-weight: bold\">102</span>,\n",
       "    <span style=\"color: #008000; text-decoration-color: #008000\">'T cell receptor gene'</span>: <span style=\"color: #008080; text-decoration-color: #008080; font-weight: bold\">191</span>,\n",
       "    <span style=\"color: #008000; text-decoration-color: #008000\">'fragile site'</span>: <span style=\"color: #008080; text-decoration-color: #008080; font-weight: bold\">116</span>,\n",
       "    <span style=\"color: #008000; text-decoration-color: #008000\">'RNA, misc'</span>: <span style=\"color: #008080; text-decoration-color: #008080; font-weight: bold\">26</span>,\n",
       "    <span style=\"color: #008000; text-decoration-color: #008000\">'protocadherin'</span>: <span style=\"color: #008080; text-decoration-color: #008080; font-weight: bold\">11</span>,\n",
       "    <span style=\"color: #008000; text-decoration-color: #008000\">'readthrough'</span>: <span style=\"color: #008080; text-decoration-color: #008080; font-weight: bold\">117</span>,\n",
       "    <span style=\"color: #008000; text-decoration-color: #008000\">'RNA, small nuclear'</span>: <span style=\"color: #008080; text-decoration-color: #008080; font-weight: bold\">43</span>,\n",
       "    <span style=\"color: #008000; text-decoration-color: #008000\">'T cell receptor pseudogene'</span>: <span style=\"color: #008080; text-decoration-color: #008080; font-weight: bold\">36</span>,\n",
       "    <span style=\"color: #008000; text-decoration-color: #008000\">'transposable element'</span>: <span style=\"color: #008080; text-decoration-color: #008080; font-weight: bold\">3</span>,\n",
       "    <span style=\"color: #008000; text-decoration-color: #008000\">'RNA, ribosomal'</span>: <span style=\"color: #008080; text-decoration-color: #008080; font-weight: bold\">55</span>,\n",
       "    <span style=\"color: #008000; text-decoration-color: #008000\">'complex locus constituent'</span>: <span style=\"color: #008080; text-decoration-color: #008080; font-weight: bold\">6</span>,\n",
       "    <span style=\"color: #008000; text-decoration-color: #008000\">'RNA, vault'</span>: <span style=\"color: #008080; text-decoration-color: #008080; font-weight: bold\">1</span>\n",
       "<span style=\"font-weight: bold\">})</span>\n",
       "</pre>\n"
      ],
      "text/plain": [
       "\u001b[1;35mCounter\u001b[0m\u001b[1m(\u001b[0m\u001b[1m{\u001b[0m\n",
       "    \u001b[32m'pseudogene'\u001b[0m: \u001b[1;36m13688\u001b[0m,\n",
       "    \u001b[32m'RNA, micro'\u001b[0m: \u001b[1;36m1215\u001b[0m,\n",
       "    \u001b[32m'gene with protein product'\u001b[0m: \u001b[1;36m1833\u001b[0m,\n",
       "    \u001b[32m'RNA, long non-coding'\u001b[0m: \u001b[1;36m4798\u001b[0m,\n",
       "    \u001b[32m'phenotype only'\u001b[0m: \u001b[1;36m472\u001b[0m,\n",
       "    \u001b[32m'unknown'\u001b[0m: \u001b[1;36m551\u001b[0m,\n",
       "    \u001b[32m'immunoglobulin pseudogene'\u001b[0m: \u001b[1;36m202\u001b[0m,\n",
       "    \u001b[32m'RNA, small nucleolar'\u001b[0m: \u001b[1;36m495\u001b[0m,\n",
       "    \u001b[32m'RNA, transfer'\u001b[0m: \u001b[1;36m603\u001b[0m,\n",
       "    \u001b[32m'immunoglobulin gene'\u001b[0m: \u001b[1;36m188\u001b[0m,\n",
       "    \u001b[32m'RNA, cluster'\u001b[0m: \u001b[1;36m123\u001b[0m,\n",
       "    \u001b[32m'virus integration site'\u001b[0m: \u001b[1;36m5\u001b[0m,\n",
       "    \u001b[32m'region'\u001b[0m: \u001b[1;36m74\u001b[0m,\n",
       "    \u001b[32m'endogenous retrovirus'\u001b[0m: \u001b[1;36m102\u001b[0m,\n",
       "    \u001b[32m'T cell receptor gene'\u001b[0m: \u001b[1;36m191\u001b[0m,\n",
       "    \u001b[32m'fragile site'\u001b[0m: \u001b[1;36m116\u001b[0m,\n",
       "    \u001b[32m'RNA, misc'\u001b[0m: \u001b[1;36m26\u001b[0m,\n",
       "    \u001b[32m'protocadherin'\u001b[0m: \u001b[1;36m11\u001b[0m,\n",
       "    \u001b[32m'readthrough'\u001b[0m: \u001b[1;36m117\u001b[0m,\n",
       "    \u001b[32m'RNA, small nuclear'\u001b[0m: \u001b[1;36m43\u001b[0m,\n",
       "    \u001b[32m'T cell receptor pseudogene'\u001b[0m: \u001b[1;36m36\u001b[0m,\n",
       "    \u001b[32m'transposable element'\u001b[0m: \u001b[1;36m3\u001b[0m,\n",
       "    \u001b[32m'RNA, ribosomal'\u001b[0m: \u001b[1;36m55\u001b[0m,\n",
       "    \u001b[32m'complex locus constituent'\u001b[0m: \u001b[1;36m6\u001b[0m,\n",
       "    \u001b[32m'RNA, vault'\u001b[0m: \u001b[1;36m1\u001b[0m\n",
       "\u001b[1m}\u001b[0m\u001b[1m)\u001b[0m\n"
      ]
     },
     "metadata": {},
     "output_type": "display_data"
    }
   ],
   "source": [
    "dark_gene_type_counter = Counter(\n",
    "    hgnc_client.get_gene_type(dark_gene) for dark_gene in dark_genes\n",
    ")\n",
    "print(dark_gene_type_counter)"
   ]
  }
 ],
 "metadata": {
  "kernelspec": {
   "display_name": "Python 3 (ipykernel)",
   "language": "python",
   "name": "python3"
  },
  "language_info": {
   "codemirror_mode": {
    "name": "ipython",
    "version": 3
   },
   "file_extension": ".py",
   "mimetype": "text/x-python",
   "name": "python",
   "nbconvert_exporter": "python",
   "pygments_lexer": "ipython3",
   "version": "3.9.12"
  }
 },
 "nbformat": 4,
 "nbformat_minor": 5
}
